{
 "cells": [
  {
   "cell_type": "code",
   "execution_count": 16,
   "metadata": {},
   "outputs": [],
   "source": [
    "from selenium import webdriver\n",
    "from selenium.webdriver.chrome.service import Service\n",
    "from webdriver_manager.chrome import ChromeDriverManager\n",
    "import time\n",
    "\n",
    "service = Service(ChromeDriverManager().install())\n",
    "nav = webdriver.Chrome(service=service)\n",
    "nav.get(\"https://web.whatsapp.com\")\n",
    "time.sleep(5)\n"
   ]
  },
  {
   "cell_type": "code",
   "execution_count": 12,
   "metadata": {},
   "outputs": [],
   "source": [
    "from selenium.webdriver.common.keys import Keys\n",
    "import time\n",
    "import pyperclip #permite copiar a msg para ser encaminhada\n",
    "\n",
    "mensagem = \"\"\"Parabéns! \n",
    "Você faz parte da minha lista de automação. Por favor, so me reponda com 'OK, eu vi'! Obrigada!! \n",
    "E amanhã sextou!\"\"\"\n",
    "\n",
    "lista_ccontatos = [\"Glauco Silva\", \"Nivea Mana Love\", \"Priscila Prisgay\", \"Any\"]\n",
    "\n",
    "#enviar a msg para 1 numero e depois encaminhar\n",
    "nav.find_element('xpath', '//*[@id=\"side\"]/div[1]/div/div[2]/button/div[2]/span').click()\n",
    "#escrever o numero\n",
    "nav.find_element('xpath', '//*[@id=\"side\"]/div[1]/div/div[2]/div[2]/div/div[1]/p').send_keys(\"Glauco Silva\")\n",
    "#apertar o ENTER\n",
    "nav.find_element('xpath', '//*[@id=\"side\"]/div[1]/div/div[2]/div[2]/div/div[1]/p').send_keys(Keys.ENTER)\n",
    "time.sleep(3)\n",
    "#escrever a msg\n",
    "pyperclip.copy(mensagem)\n",
    "nav.find_element('xpath', '//*[@id=\"main\"]/footer/div[1]/div/span[2]/div/div[2]/div[1]/div/div[1]/p').send_keys(Keys.CONTROL + \"v\")\n",
    "nav.find_element('xpath', '//*[@id=\"main\"]/footer/div[1]/div/span[2]/div/div[2]/div[1]/div/div[1]/p').send_keys(Keys.ENTER)\n",
    "time.sleep(3)\n"
   ]
  },
  {
   "cell_type": "code",
   "execution_count": 15,
   "metadata": {},
   "outputs": [],
   "source": [
    "from selenium.webdriver.common.action_chains import ActionChains\n",
    "\n",
    "#encaminhar a msg\n",
    "lista_elementos = nav.find_elements('class name', '_2AOIt')\n",
    "for item in lista_elementos:\n",
    "    mensagem = mensagem.replace(\"\\n\", \"\")\n",
    "    texto = item.text.replace(\"\\n\", \"\")\n",
    "    if mensagem in texto:\n",
    "        elemento = item\n",
    "        break\n",
    "\n",
    "ActionChains(nav).move_to_element(elemento).perform()\n",
    "elemento.find_element('class name', '_3u9t-').click()\n",
    "time.sleep(1)\n",
    "nav.find_element('xpath', '//*[@id=\"app\"]/div/span[5]/div/ul/div/li[4]/div').click()\n",
    "nav.find_element('xpath', '//*[@id=\"main\"]/span[2]/div/button[4]/span').click()\n",
    "time.sleep(1)\n",
    "\n",
    "#Escrever o nome do contato \n",
    "nav.find_element('xpath', '//*[@id=\"app\"]/div/span[2]/div/div/div/div/div/div/div/div[1]/div/div[2]/div[2]/div/div[1]/p').send_keys(\"Nivea Mana Love\")\n",
    "time.sleep(1)\n",
    "#Enter\n",
    "nav.find_element('xpath','//*[@id=\"app\"]/div/span[2]/div/div/div/div/div/div/div/div[1]/div/div[2]/div[2]/div/div[1]/p').send_keys(Keys.ENTER)\n",
    "#Apagar o nome do contato\n",
    "time.sleep(1)\n",
    "nav.find_element('xpath','//*[@id=\"app\"]/div/span[2]/div/div/div/div/div/div/div/div[1]/div/div[2]/div[2]/div/div[1]/p').send_keys(Keys.BACKSPACE)\n",
    "\n",
    "nav.find_element('xpath', '//*[@id=\"app\"]/div/span[2]/div/div/div/div/div/div/div/div[1]/div/div[2]/div[2]/div/div[1]/p').send_keys(\"Priscila\")\n",
    "time.sleep(1)\n",
    "#Enter\n",
    "nav.find_element('xpath','//*[@id=\"app\"]/div/span[2]/div/div/div/div/div/div/div/div[1]/div/div[2]/div[2]/div/div[1]/p').send_keys(Keys.ENTER)\n",
    "#Apagar o nome do contato\n",
    "time.sleep(1)\n",
    "nav.find_element('xpath','//*[@id=\"app\"]/div/span[2]/div/div/div/div/div/div/div/div[1]/div/div[2]/div[2]/div/div[1]/p').send_keys(Keys.BACKSPACE)\n",
    "\n",
    "\n",
    "nav.find_element('xpath', '//*[@id=\"app\"]/div/span[2]/div/div/div/div/div/div/div/div[1]/div/div[2]/div[2]/div/div[1]/p').send_keys(\"Any\")\n",
    "time.sleep(1)\n",
    "#Enter\n",
    "nav.find_element('xpath','//*[@id=\"app\"]/div/span[2]/div/div/div/div/div/div/div/div[1]/div/div[2]/div[2]/div/div[1]/p').send_keys(Keys.ENTER)\n",
    "#Apagar o nome do contato\n",
    "time.sleep(1)\n",
    "nav.find_element('xpath','//*[@id=\"app\"]/div/span[2]/div/div/div/div/div/div/div/span/div/div/div/span').click()\n",
    "\n",
    "#Fiz dessa forma porque só quwria enviar para essas pessoas. Depois vou fazer, para o modo looping\n",
    "\n",
    "\n"
   ]
  }
 ],
 "metadata": {
  "kernelspec": {
   "display_name": "Python 3",
   "language": "python",
   "name": "python3"
  },
  "language_info": {
   "codemirror_mode": {
    "name": "ipython",
    "version": 3
   },
   "file_extension": ".py",
   "mimetype": "text/x-python",
   "name": "python",
   "nbconvert_exporter": "python",
   "pygments_lexer": "ipython3",
   "version": "3.12.2"
  }
 },
 "nbformat": 4,
 "nbformat_minor": 2
}
